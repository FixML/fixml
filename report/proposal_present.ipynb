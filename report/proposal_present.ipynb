{
 "cells": [
  {
   "cell_type": "markdown",
   "id": "1cd70101-048b-4528-af62-f4347c14a17c",
   "metadata": {},
   "source": [
    "**Project Title**: Checklists and LLM prompts for efficient and effective test creation in data analysis (i.e. FixML GPT)  \n",
    "\n",
    "**Team members name**: John Shiu, Orix Au Yeung, Tony Shum, Yingzi Jin  \n",
    "\n",
    "**URL to our slide deck**: https://github.com/UBC-MDS/test-creation/blob/proposal_present/report/DSCI591%20ChecklistLLM%20Proposal%20Presentation.pptx"
   ]
  }
 ],
 "metadata": {
  "kernelspec": {
   "display_name": "Python [conda env:575]",
   "language": "python",
   "name": "conda-env-575-py"
  },
  "language_info": {
   "codemirror_mode": {
    "name": "ipython",
    "version": 3
   },
   "file_extension": ".py",
   "mimetype": "text/x-python",
   "name": "python",
   "nbconvert_exporter": "python",
   "pygments_lexer": "ipython3",
   "version": "3.12.2"
  }
 },
 "nbformat": 4,
 "nbformat_minor": 5
}
