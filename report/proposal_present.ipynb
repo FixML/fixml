{
 "cells": [
  {
   "cell_type": "markdown",
   "id": "1cd70101-048b-4528-af62-f4347c14a17c",
   "metadata": {},
   "source": [
    "**Project Title**: Checklists and LLM prompts for efficient and effective test creation in data analysis (i.e. FixML GPT)  \n",
    "\n",
    "**Team members name**: John Shiu, Orix Au Yeung, Tony Shum, Yingzi Jin  \n",
    "\n",
    "**URL to our slide deck**: https://github.com/UBC-MDS/test-creation/blob/main/report/DSCI591%20ChecklistLLM%20Proposal%20Presentation.pptx"
   ]
  },
  {
   "cell_type": "code",
   "execution_count": null,
   "id": "9974b7b5-01c2-4d26-8451-e23f2b9a34cd",
   "metadata": {},
   "outputs": [],
   "source": []
  }
 ],
 "metadata": {
  "kernelspec": {
   "display_name": "Python [conda env:575]",
   "language": "python",
   "name": "conda-env-575-py"
  },
  "language_info": {
   "codemirror_mode": {
    "name": "ipython",
    "version": 3
   },
   "file_extension": ".py",
   "mimetype": "text/x-python",
   "name": "python",
   "nbconvert_exporter": "python",
   "pygments_lexer": "ipython3",
   "version": "3.12.2"
  }
 },
 "nbformat": 4,
 "nbformat_minor": 5
}
