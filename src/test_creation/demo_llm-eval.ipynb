{
 "cells": [
  {
   "cell_type": "markdown",
   "id": "084f28a1-0b5d-4e99-8f1c-2e5ceeb900bc",
   "metadata": {},
   "source": [
    "### run evaluations on checklists of week 4 and week 5 versions"
   ]
  },
  {
   "cell_type": "code",
   "execution_count": 1,
   "id": "d2c1ead7-9d5b-4414-80e2-07092ba180ca",
   "metadata": {},
   "outputs": [],
   "source": [
    "from analyze import *\n",
    "from modules.llm_eval.consistency_eval import *"
   ]
  },
  {
   "cell_type": "code",
   "execution_count": 2,
   "id": "af3e15cb-2125-4b6b-8d29-a520cf0fba94",
   "metadata": {},
   "outputs": [],
   "source": [
    "report_output_path_html = '../../report/evaluation_report.html'\n",
    "report_output_path_pdf = '../../report/evaluation_report.pdf'"
   ]
  },
  {
   "cell_type": "code",
   "execution_count": 3,
   "id": "9cc8967e-9caf-441f-8754-182fed3f8c45",
   "metadata": {},
   "outputs": [],
   "source": [
    "llm = ChatOpenAI(model=\"gpt-3.5-turbo\", temperature=0)\n",
    "repo = Repository('../../data/raw/openja/lightfm')\n",
    "prompt_format = EvaluationPromptFormat()\n",
    "\n",
    "checklist_v1 = Checklist('archive/checklist_20240527.csv', checklist_format=ChecklistFormat.CSV)\n",
    "checklist_v2 = Checklist('../../checklist/checklist.csv', checklist_format=ChecklistFormat.CSV)\n",
    "\n",
    "evaluator_v1 = PerFileTestEvaluator(llm, prompt_format=prompt_format, repository=repo, checklist=checklist_v1)\n",
    "evaluator_v2 = PerFileTestEvaluator(llm, prompt_format=prompt_format, repository=repo, checklist=checklist_v2)"
   ]
  },
  {
   "cell_type": "code",
   "execution_count": null,
   "id": "0e6e4809-ea32-4d16-8a87-3eadd7997fb2",
   "metadata": {
    "scrolled": true
   },
   "outputs": [
    {
     "name": "stderr",
     "output_type": "stream",
     "text": [
      "100%|███████████████████████████████████████████████████████████████████████████████████████████████████████████████████████████████████████████████████████████████████████████████████████████████████████████| 7/7 [01:38<00:00, 14.11s/it]\n",
      "100%|███████████████████████████████████████████████████████████████████████████████████████████████████████████████████████████████████████████████████████████████████████████████████████████████████████████| 7/7 [01:35<00:00, 13.61s/it]\n",
      "100%|███████████████████████████████████████████████████████████████████████████████████████████████████████████████████████████████████████████████████████████████████████████████████████████████████████████| 7/7 [02:29<00:00, 21.39s/it]\n",
      "100%|███████████████████████████████████████████████████████████████████████████████████████████████████████████████████████████████████████████████████████████████████████████████████████████████████████████| 7/7 [04:05<00:00, 35.03s/it]\n",
      "100%|███████████████████████████████████████████████████████████████████████████████████████████████████████████████████████████████████████████████████████████████████████████████████████████████████████████| 7/7 [01:32<00:00, 13.16s/it]\n",
      "100%|███████████████████████████████████████████████████████████████████████████████████████████████████████████████████████████████████████████████████████████████████████████████████████████████████████████| 7/7 [01:33<00:00, 13.38s/it]\n",
      "100%|███████████████████████████████████████████████████████████████████████████████████████████████████████████████████████████████████████████████████████████████████████████████████████████████████████████| 7/7 [01:36<00:00, 13.75s/it]\n",
      "100%|███████████████████████████████████████████████████████████████████████████████████████████████████████████████████████████████████████████████████████████████████████████████████████████████████████████| 7/7 [01:31<00:00, 13.06s/it]\n",
      "100%|███████████████████████████████████████████████████████████████████████████████████████████████████████████████████████████████████████████████████████████████████████████████████████████████████████████| 7/7 [01:26<00:00, 12.34s/it]\n",
      "100%|███████████████████████████████████████████████████████████████████████████████████████████████████████████████████████████████████████████████████████████████████████████████████████████████████████████| 7/7 [01:29<00:00, 12.82s/it]\n",
      "100%|███████████████████████████████████████████████████████████████████████████████████████████████████████████████████████████████████████████████████████████████████████████████████████████████████████████| 7/7 [01:17<00:00, 11.13s/it]\n",
      "100%|███████████████████████████████████████████████████████████████████████████████████████████████████████████████████████████████████████████████████████████████████████████████████████████████████████████| 7/7 [01:29<00:00, 12.79s/it]\n",
      "100%|███████████████████████████████████████████████████████████████████████████████████████████████████████████████████████████████████████████████████████████████████████████████████████████████████████████| 7/7 [01:34<00:00, 13.47s/it]\n",
      "100%|███████████████████████████████████████████████████████████████████████████████████████████████████████████████████████████████████████████████████████████████████████████████████████████████████████████| 7/7 [01:23<00:00, 11.86s/it]\n",
      "100%|███████████████████████████████████████████████████████████████████████████████████████████████████████████████████████████████████████████████████████████████████████████████████████████████████████████| 7/7 [01:23<00:00, 11.89s/it]\n",
      "100%|███████████████████████████████████████████████████████████████████████████████████████████████████████████████████████████████████████████████████████████████████████████████████████████████████████████| 7/7 [01:26<00:00, 12.35s/it]\n",
      "100%|███████████████████████████████████████████████████████████████████████████████████████████████████████████████████████████████████████████████████████████████████████████████████████████████████████████| 7/7 [01:24<00:00, 12.04s/it]\n",
      "100%|███████████████████████████████████████████████████████████████████████████████████████████████████████████████████████████████████████████████████████████████████████████████████████████████████████████| 7/7 [01:28<00:00, 12.71s/it]\n",
      "100%|███████████████████████████████████████████████████████████████████████████████████████████████████████████████████████████████████████████████████████████████████████████████████████████████████████████| 7/7 [01:29<00:00, 12.74s/it]\n",
      "100%|███████████████████████████████████████████████████████████████████████████████████████████████████████████████████████████████████████████████████████████████████████████████████████████████████████████| 7/7 [01:33<00:00, 13.31s/it]\n",
      "100%|███████████████████████████████████████████████████████████████████████████████████████████████████████████████████████████████████████████████████████████████████████████████████████████████████████████| 7/7 [01:30<00:00, 12.94s/it]\n",
      "100%|███████████████████████████████████████████████████████████████████████████████████████████████████████████████████████████████████████████████████████████████████████████████████████████████████████████| 7/7 [01:37<00:00, 13.89s/it]\n",
      "100%|███████████████████████████████████████████████████████████████████████████████████████████████████████████████████████████████████████████████████████████████████████████████████████████████████████████| 7/7 [01:36<00:00, 13.75s/it]\n",
      "  0%|                                                                                                                                                                                                                   | 0/7 [00:00<?, ?it/s]"
     ]
    }
   ],
   "source": [
    "eval_evaluator = ConsistencyEvaluator()\n",
    "\n",
    "RUNS = 20 # TODO: recommended 20 ~ 30\n",
    "\n",
    "eval_evaluator.evaluate(models=[\n",
    "    {'name': '1. original', 'model': evaluator_v1},\n",
    "    {'name': '2. after rewording Requirement', 'model': evaluator_v2},\n",
    "], num_test_runs=RUNS) "
   ]
  },
  {
   "cell_type": "code",
   "execution_count": null,
   "id": "0b40193b-eff9-4162-9951-9b9fe1673043",
   "metadata": {},
   "outputs": [],
   "source": [
    "eval_evaluator.get_completeness_score_dist()"
   ]
  },
  {
   "cell_type": "markdown",
   "id": "f080f957-54c1-45e0-bdc5-b5a1956ea208",
   "metadata": {},
   "source": [
    "### compare consistency "
   ]
  },
  {
   "cell_type": "code",
   "execution_count": null,
   "id": "6b5f095b-1405-4468-885e-1fb9e04d1f5d",
   "metadata": {},
   "outputs": [],
   "source": [
    "completeness_score_var = pd.DataFrame(eval_evaluator.get_completeness_score_dist().var(axis=1), columns=['sample variance'])\n",
    "completeness_score_var"
   ]
  },
  {
   "cell_type": "code",
   "execution_count": null,
   "id": "117db5b4-4422-4a55-a4e0-e8530c4b3809",
   "metadata": {},
   "outputs": [],
   "source": [
    "F = completeness_score_var['sample variance'].iloc[1] / completeness_score_var['sample variance'].iloc[0]\n",
    "F"
   ]
  },
  {
   "cell_type": "code",
   "execution_count": null,
   "id": "76c35604-b7d4-4803-8f87-f527acd3cb72",
   "metadata": {},
   "outputs": [],
   "source": [
    "import scipy\n",
    "tail = 2\n",
    "alpha = 0.05 #Or whatever you want your alpha to be.\n",
    "p_value = 1 - scipy.stats.f.cdf(F, RUNS-1, RUNS-1) \n",
    "\n",
    "print(f\"p-value: {p_value}\")\n",
    "print()\n",
    "\n",
    "print(f\"{tail}-tail test:\")\n",
    "if p_value < alpha / 2:\n",
    "    print(\"  Reject the null hypothesis: Var(Completeness_Score(Current Version)) == Var(Completeness_Score(Last Week Version))\")\n",
    "else:\n",
    "    print(\"  Failed to reject the null hypothesis: Var(Completeness_Score(Current Version)) == Var(Completeness_Score(Last Week Version))\")"
   ]
  },
  {
   "cell_type": "markdown",
   "id": "f160a077-c968-4860-9eba-350a645fb2aa",
   "metadata": {},
   "source": [
    "### compare accuracy"
   ]
  },
  {
   "cell_type": "code",
   "execution_count": null,
   "id": "b44b0ac1-19c4-4125-a4f3-e5b076573ab4",
   "metadata": {},
   "outputs": [],
   "source": [
    "# Human evaluated answer\n",
    "human_answer = pd.DataFrame([\n",
    "    {'ID': '2.1', \"human_answer\": 1.0}, \n",
    "    {'ID': '3.2', \"human_answer\": 0.5},\n",
    "    {'ID': '3.5', \"human_answer\": 0.0},\n",
    "    {'ID': '4.2', \"human_answer\": 1.0},\n",
    "    {'ID': '5.3', \"human_answer\": 0.5},\n",
    "    {'ID': '6.1', \"human_answer\": 1.0},\n",
    "    {'ID': '6.2', \"human_answer\": 1.0},\n",
    "])\n",
    "# reference: https://github.com/UBC-MDS/test-creation/blob/main/report/repo_human_evaluation/human_evaluation_report-lightfm.md"
   ]
  },
  {
   "cell_type": "code",
   "execution_count": null,
   "id": "c944f411-f67f-4687-b55f-58eb7347f934",
   "metadata": {},
   "outputs": [],
   "source": [
    "df = eval_evaluator.get_consistency_dist().reset_index().drop(columns=['consistency'])\n",
    "df = df.merge(human_answer, how='left', on='ID')\n",
    "\n",
    "checklist_item_title = pd.DataFrame(checklist_v2.get_all_tests())[['ID', 'Title']]\n",
    "df = df.merge(checklist_item_title, how='left', on='ID')\n",
    "df"
   ]
  },
  {
   "cell_type": "markdown",
   "id": "d54e961f-d19e-47f5-99c4-145fea3e3b23",
   "metadata": {},
   "source": [
    "### reference\n",
    "https://www.itl.nist.gov/div898/handbook/eda/section3/eda359.html  \n",
    "https://www.statisticshowto.com/probability-and-statistics/hypothesis-testing/f-test/#:~:text=F%20Test%20to%20Compare%20Two%20Variances,-A%20Statistical%20F&text=If%20the%20variances%20are%20equal,when%20running%20an%20F%20Test  \n",
    "https://stackoverflow.com/questions/21494141/how-do-i-do-a-f-test-in-python"
   ]
  },
  {
   "cell_type": "code",
   "execution_count": null,
   "id": "c1a7c9ad-1f31-4134-86c2-1b7036d8e66c",
   "metadata": {},
   "outputs": [],
   "source": []
  }
 ],
 "metadata": {
  "kernelspec": {
   "display_name": "Python [conda env:test-creation]",
   "language": "python",
   "name": "conda-env-test-creation-py"
  },
  "language_info": {
   "codemirror_mode": {
    "name": "ipython",
    "version": 3
   },
   "file_extension": ".py",
   "mimetype": "text/x-python",
   "name": "python",
   "nbconvert_exporter": "python",
   "pygments_lexer": "ipython3",
   "version": "3.12.3"
  }
 },
 "nbformat": 4,
 "nbformat_minor": 5
}
