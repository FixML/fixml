{
 "cells": [
  {
   "cell_type": "markdown",
   "id": "2b45390c-f495-42bc-b0c9-64d1189a81ce",
   "metadata": {},
   "source": [
    "### current version"
   ]
  },
  {
   "cell_type": "code",
   "execution_count": 1,
   "id": "d2c1ead7-9d5b-4414-80e2-07092ba180ca",
   "metadata": {},
   "outputs": [],
   "source": [
    "from analyze import *\n",
    "from modules.llm_eval.consistency_eval import *"
   ]
  },
  {
   "cell_type": "code",
   "execution_count": 2,
   "id": "1acc7761-b05e-44ba-9e75-a051ff5af2e4",
   "metadata": {},
   "outputs": [],
   "source": [
    "llm = ChatOpenAI(model=\"gpt-3.5-turbo\", temperature=0)\n",
    "checklist = Checklist(\"../../checklist/checklist_sys.csv/\", checklist_format=ChecklistFormat.CSV)\n",
    "extractor = PythonTestFileExtractor(Repository(\"../../data/raw/openja/lightfm_demo\"))\n",
    "\n",
    "evaluator = TestEvaluator(llm, extractor, checklist)"
   ]
  },
  {
   "cell_type": "code",
   "execution_count": 3,
   "id": "5cef8b2c-3484-4452-94ea-cdd664afeff0",
   "metadata": {},
   "outputs": [
    {
     "name": "stderr",
     "output_type": "stream",
     "text": [
      "100%|███████████████████████████████████████████████████████████████████████████████████████████████████████████████████████████████████████████████████████████████████████████████████████████████████████████| 3/3 [00:35<00:00, 11.90s/it]\n",
      "100%|███████████████████████████████████████████████████████████████████████████████████████████████████████████████████████████████████████████████████████████████████████████████████████████████████████████| 3/3 [00:37<00:00, 12.59s/it]\n",
      "100%|███████████████████████████████████████████████████████████████████████████████████████████████████████████████████████████████████████████████████████████████████████████████████████████████████████████| 3/3 [00:23<00:00,  7.85s/it]\n",
      "100%|███████████████████████████████████████████████████████████████████████████████████████████████████████████████████████████████████████████████████████████████████████████████████████████████████████████| 3/3 [00:29<00:00,  9.79s/it]\n",
      "100%|███████████████████████████████████████████████████████████████████████████████████████████████████████████████████████████████████████████████████████████████████████████████████████████████████████████| 3/3 [00:34<00:00, 11.61s/it]\n",
      "100%|███████████████████████████████████████████████████████████████████████████████████████████████████████████████████████████████████████████████████████████████████████████████████████████████████████████| 3/3 [00:30<00:00, 10.10s/it]\n",
      "100%|███████████████████████████████████████████████████████████████████████████████████████████████████████████████████████████████████████████████████████████████████████████████████████████████████████████| 3/3 [00:21<00:00,  7.13s/it]\n",
      "100%|███████████████████████████████████████████████████████████████████████████████████████████████████████████████████████████████████████████████████████████████████████████████████████████████████████████| 3/3 [00:29<00:00,  9.76s/it]\n",
      "100%|███████████████████████████████████████████████████████████████████████████████████████████████████████████████████████████████████████████████████████████████████████████████████████████████████████████| 3/3 [00:29<00:00,  9.90s/it]\n",
      "100%|███████████████████████████████████████████████████████████████████████████████████████████████████████████████████████████████████████████████████████████████████████████████████████████████████████████| 3/3 [00:30<00:00, 10.27s/it]\n"
     ]
    }
   ],
   "source": [
    "eval_evaluator = ConsistencyEvaluator()\n",
    "\n",
    "eval_evaluator.evaluate(models=[{'name': 'model_no1', 'model': evaluator}], num_test_runs=10)"
   ]
  },
  {
   "cell_type": "code",
   "execution_count": 4,
   "id": "0fae3f80-45cb-42ff-b807-7e09d525c945",
   "metadata": {},
   "outputs": [
    {
     "data": {
      "text/html": [
       "<div>\n",
       "<style scoped>\n",
       "    .dataframe tbody tr th:only-of-type {\n",
       "        vertical-align: middle;\n",
       "    }\n",
       "\n",
       "    .dataframe tbody tr th {\n",
       "        vertical-align: top;\n",
       "    }\n",
       "\n",
       "    .dataframe thead th {\n",
       "        text-align: right;\n",
       "    }\n",
       "</style>\n",
       "<table border=\"1\" class=\"dataframe\">\n",
       "  <thead>\n",
       "    <tr style=\"text-align: right;\">\n",
       "      <th>test_no</th>\n",
       "      <th>1</th>\n",
       "      <th>2</th>\n",
       "      <th>3</th>\n",
       "      <th>4</th>\n",
       "      <th>5</th>\n",
       "      <th>6</th>\n",
       "      <th>7</th>\n",
       "      <th>8</th>\n",
       "      <th>9</th>\n",
       "      <th>10</th>\n",
       "    </tr>\n",
       "    <tr>\n",
       "      <th>model_name</th>\n",
       "      <th></th>\n",
       "      <th></th>\n",
       "      <th></th>\n",
       "      <th></th>\n",
       "      <th></th>\n",
       "      <th></th>\n",
       "      <th></th>\n",
       "      <th></th>\n",
       "      <th></th>\n",
       "      <th></th>\n",
       "    </tr>\n",
       "  </thead>\n",
       "  <tbody>\n",
       "    <tr>\n",
       "      <th>model_no1</th>\n",
       "      <td>0.3125</td>\n",
       "      <td>0.25</td>\n",
       "      <td>0.3125</td>\n",
       "      <td>0.1875</td>\n",
       "      <td>0.25</td>\n",
       "      <td>0.375</td>\n",
       "      <td>0.25</td>\n",
       "      <td>0.1875</td>\n",
       "      <td>0.25</td>\n",
       "      <td>0.3125</td>\n",
       "    </tr>\n",
       "  </tbody>\n",
       "</table>\n",
       "</div>"
      ],
      "text/plain": [
       "test_no         1     2       3       4     5      6     7       8     9   \\\n",
       "model_name                                                                  \n",
       "model_no1   0.3125  0.25  0.3125  0.1875  0.25  0.375  0.25  0.1875  0.25   \n",
       "\n",
       "test_no         10  \n",
       "model_name          \n",
       "model_no1   0.3125  "
      ]
     },
     "execution_count": 4,
     "metadata": {},
     "output_type": "execute_result"
    }
   ],
   "source": [
    "eval_evaluator.get_completeness_score_dist()"
   ]
  },
  {
   "cell_type": "code",
   "execution_count": 5,
   "id": "ecf75ae9-bd88-42d2-a6b2-31710109b4c8",
   "metadata": {},
   "outputs": [
    {
     "data": {
      "text/plain": [
       "0.0035156249999999997"
      ]
     },
     "execution_count": 5,
     "metadata": {},
     "output_type": "execute_result"
    }
   ],
   "source": [
    "eval_evaluator.get_completeness_score_dist().iloc[0].var()"
   ]
  },
  {
   "cell_type": "code",
   "execution_count": 6,
   "id": "75795230-3c47-4961-885a-9bd774f49be0",
   "metadata": {},
   "outputs": [
    {
     "data": {
      "text/html": [
       "<div>\n",
       "<style scoped>\n",
       "    .dataframe tbody tr th:only-of-type {\n",
       "        vertical-align: middle;\n",
       "    }\n",
       "\n",
       "    .dataframe tbody tr th {\n",
       "        vertical-align: top;\n",
       "    }\n",
       "\n",
       "    .dataframe thead th {\n",
       "        text-align: right;\n",
       "    }\n",
       "</style>\n",
       "<table border=\"1\" class=\"dataframe\">\n",
       "  <thead>\n",
       "    <tr style=\"text-align: right;\">\n",
       "      <th></th>\n",
       "      <th>test_no</th>\n",
       "      <th>1</th>\n",
       "      <th>2</th>\n",
       "      <th>3</th>\n",
       "      <th>4</th>\n",
       "      <th>5</th>\n",
       "      <th>6</th>\n",
       "      <th>7</th>\n",
       "      <th>8</th>\n",
       "      <th>9</th>\n",
       "      <th>10</th>\n",
       "      <th>consistency</th>\n",
       "    </tr>\n",
       "    <tr>\n",
       "      <th>model_name</th>\n",
       "      <th>ID</th>\n",
       "      <th></th>\n",
       "      <th></th>\n",
       "      <th></th>\n",
       "      <th></th>\n",
       "      <th></th>\n",
       "      <th></th>\n",
       "      <th></th>\n",
       "      <th></th>\n",
       "      <th></th>\n",
       "      <th></th>\n",
       "      <th></th>\n",
       "    </tr>\n",
       "  </thead>\n",
       "  <tbody>\n",
       "    <tr>\n",
       "      <th rowspan=\"8\" valign=\"top\">model_no1</th>\n",
       "      <th>2.1</th>\n",
       "      <td>0.5</td>\n",
       "      <td>0.0</td>\n",
       "      <td>0.0</td>\n",
       "      <td>0.0</td>\n",
       "      <td>0.0</td>\n",
       "      <td>0.5</td>\n",
       "      <td>0.0</td>\n",
       "      <td>0.0</td>\n",
       "      <td>0.5</td>\n",
       "      <td>0.5</td>\n",
       "      <td>False</td>\n",
       "    </tr>\n",
       "    <tr>\n",
       "      <th>3.1</th>\n",
       "      <td>0.0</td>\n",
       "      <td>0.5</td>\n",
       "      <td>0.0</td>\n",
       "      <td>0.0</td>\n",
       "      <td>0.5</td>\n",
       "      <td>0.0</td>\n",
       "      <td>0.0</td>\n",
       "      <td>0.0</td>\n",
       "      <td>0.0</td>\n",
       "      <td>0.0</td>\n",
       "      <td>False</td>\n",
       "    </tr>\n",
       "    <tr>\n",
       "      <th>3.2</th>\n",
       "      <td>0.0</td>\n",
       "      <td>0.0</td>\n",
       "      <td>0.0</td>\n",
       "      <td>0.0</td>\n",
       "      <td>0.0</td>\n",
       "      <td>0.0</td>\n",
       "      <td>0.0</td>\n",
       "      <td>0.0</td>\n",
       "      <td>0.0</td>\n",
       "      <td>0.0</td>\n",
       "      <td>True</td>\n",
       "    </tr>\n",
       "    <tr>\n",
       "      <th>4.1</th>\n",
       "      <td>1.0</td>\n",
       "      <td>0.5</td>\n",
       "      <td>1.0</td>\n",
       "      <td>0.5</td>\n",
       "      <td>0.5</td>\n",
       "      <td>1.0</td>\n",
       "      <td>1.0</td>\n",
       "      <td>0.5</td>\n",
       "      <td>0.5</td>\n",
       "      <td>1.0</td>\n",
       "      <td>False</td>\n",
       "    </tr>\n",
       "    <tr>\n",
       "      <th>5.1</th>\n",
       "      <td>0.5</td>\n",
       "      <td>0.5</td>\n",
       "      <td>0.5</td>\n",
       "      <td>0.5</td>\n",
       "      <td>0.5</td>\n",
       "      <td>0.5</td>\n",
       "      <td>0.5</td>\n",
       "      <td>0.5</td>\n",
       "      <td>0.5</td>\n",
       "      <td>0.5</td>\n",
       "      <td>True</td>\n",
       "    </tr>\n",
       "    <tr>\n",
       "      <th>6.1</th>\n",
       "      <td>0.5</td>\n",
       "      <td>0.5</td>\n",
       "      <td>0.5</td>\n",
       "      <td>0.5</td>\n",
       "      <td>0.5</td>\n",
       "      <td>0.5</td>\n",
       "      <td>0.5</td>\n",
       "      <td>0.5</td>\n",
       "      <td>0.5</td>\n",
       "      <td>0.5</td>\n",
       "      <td>True</td>\n",
       "    </tr>\n",
       "    <tr>\n",
       "      <th>6.2</th>\n",
       "      <td>0.0</td>\n",
       "      <td>0.0</td>\n",
       "      <td>0.5</td>\n",
       "      <td>0.0</td>\n",
       "      <td>0.0</td>\n",
       "      <td>0.5</td>\n",
       "      <td>0.0</td>\n",
       "      <td>0.0</td>\n",
       "      <td>0.0</td>\n",
       "      <td>0.0</td>\n",
       "      <td>False</td>\n",
       "    </tr>\n",
       "    <tr>\n",
       "      <th>8.1</th>\n",
       "      <td>0.0</td>\n",
       "      <td>0.0</td>\n",
       "      <td>0.0</td>\n",
       "      <td>0.0</td>\n",
       "      <td>0.0</td>\n",
       "      <td>0.0</td>\n",
       "      <td>0.0</td>\n",
       "      <td>0.0</td>\n",
       "      <td>0.0</td>\n",
       "      <td>0.0</td>\n",
       "      <td>True</td>\n",
       "    </tr>\n",
       "  </tbody>\n",
       "</table>\n",
       "</div>"
      ],
      "text/plain": [
       "test_no           1    2    3    4    5    6    7    8    9   10  consistency\n",
       "model_name ID                                                                \n",
       "model_no1  2.1  0.5  0.0  0.0  0.0  0.0  0.5  0.0  0.0  0.5  0.5        False\n",
       "           3.1  0.0  0.5  0.0  0.0  0.5  0.0  0.0  0.0  0.0  0.0        False\n",
       "           3.2  0.0  0.0  0.0  0.0  0.0  0.0  0.0  0.0  0.0  0.0         True\n",
       "           4.1  1.0  0.5  1.0  0.5  0.5  1.0  1.0  0.5  0.5  1.0        False\n",
       "           5.1  0.5  0.5  0.5  0.5  0.5  0.5  0.5  0.5  0.5  0.5         True\n",
       "           6.1  0.5  0.5  0.5  0.5  0.5  0.5  0.5  0.5  0.5  0.5         True\n",
       "           6.2  0.0  0.0  0.5  0.0  0.0  0.5  0.0  0.0  0.0  0.0        False\n",
       "           8.1  0.0  0.0  0.0  0.0  0.0  0.0  0.0  0.0  0.0  0.0         True"
      ]
     },
     "execution_count": 6,
     "metadata": {},
     "output_type": "execute_result"
    }
   ],
   "source": [
    "eval_evaluator.get_consistency_dist()"
   ]
  },
  {
   "cell_type": "code",
   "execution_count": 7,
   "id": "930700eb-33ce-448a-8f33-dfe82030058a",
   "metadata": {},
   "outputs": [],
   "source": [
    "# import pandas as pd\n",
    "# pd.DataFrame([r for r in response if r['file'] == '../../data/raw/openja/lightfm_demo/tests/test_data.py'][0]['report']).iloc[4]"
   ]
  },
  {
   "cell_type": "code",
   "execution_count": null,
   "id": "488ecd30-c7d7-4065-b07b-07c673e670b3",
   "metadata": {},
   "outputs": [],
   "source": []
  },
  {
   "cell_type": "markdown",
   "id": "a5c024d8-bf90-48e5-8e68-e74c62f145ac",
   "metadata": {},
   "source": [
    "### last week's version "
   ]
  },
  {
   "cell_type": "code",
   "execution_count": 8,
   "id": "bdb95d49-491d-4030-a49f-6b58c959824b",
   "metadata": {},
   "outputs": [],
   "source": [
    "from analyze_prev import TestEvaluator as TestEvaluatorPrev\n",
    "from modules.llm_eval.consistency_eval import *"
   ]
  },
  {
   "cell_type": "code",
   "execution_count": 9,
   "id": "0aabc4af-1da3-42f0-be47-966754962712",
   "metadata": {},
   "outputs": [],
   "source": [
    "evaluator_prev = TestEvaluatorPrev('../../data/raw/openja/lightfm_demo')\n",
    "evaluator_prev.load_checklist('../../checklist/checklist_sys.csv')"
   ]
  },
  {
   "cell_type": "code",
   "execution_count": null,
   "id": "ad0a59a9-185c-4f17-a0dd-fa2534958ecb",
   "metadata": {},
   "outputs": [
    {
     "name": "stderr",
     "output_type": "stream",
     "text": [
      "100%|███████████████████████████████████████████████████████████████████████████████████████████████████████████████████████████████████████████████████████████████████████████████████████████████████████████| 3/3 [00:34<00:00, 11.58s/it]\n",
      "100%|███████████████████████████████████████████████████████████████████████████████████████████████████████████████████████████████████████████████████████████████████████████████████████████████████████████| 3/3 [00:30<00:00, 10.25s/it]\n",
      "100%|███████████████████████████████████████████████████████████████████████████████████████████████████████████████████████████████████████████████████████████████████████████████████████████████████████████| 3/3 [00:36<00:00, 12.26s/it]\n",
      "100%|███████████████████████████████████████████████████████████████████████████████████████████████████████████████████████████████████████████████████████████████████████████████████████████████████████████| 3/3 [00:29<00:00,  9.87s/it]\n",
      "100%|███████████████████████████████████████████████████████████████████████████████████████████████████████████████████████████████████████████████████████████████████████████████████████████████████████████| 3/3 [00:31<00:00, 10.66s/it]\n",
      "100%|███████████████████████████████████████████████████████████████████████████████████████████████████████████████████████████████████████████████████████████████████████████████████████████████████████████| 3/3 [00:33<00:00, 11.30s/it]\n",
      "100%|███████████████████████████████████████████████████████████████████████████████████████████████████████████████████████████████████████████████████████████████████████████████████████████████████████████| 3/3 [00:30<00:00, 10.09s/it]\n",
      " 33%|███████████████████████████████████████████████████████████████████▋                                                                                                                                       | 1/3 [00:10<00:20, 10.42s/it]"
     ]
    }
   ],
   "source": [
    "eval_prev_evaluator = ConsistencyEvaluator()\n",
    "\n",
    "eval_prev_evaluator.evaluate(\n",
    "    models=[{'name': 'model_no1', 'model': evaluator_prev}], \n",
    "    num_test_runs=10, \n",
    "    version_before_refactoring=True)"
   ]
  },
  {
   "cell_type": "code",
   "execution_count": null,
   "id": "d717ba5d-dc9d-477d-a9db-ccb993f48f09",
   "metadata": {},
   "outputs": [],
   "source": [
    "eval_prev_evaluator.get_completeness_score_dist()"
   ]
  },
  {
   "cell_type": "code",
   "execution_count": null,
   "id": "273db18c-13c4-4c86-a4c8-f42e0b0e37c5",
   "metadata": {},
   "outputs": [],
   "source": [
    "eval_prev_evaluator.get_completeness_score_dist().iloc[0].var()"
   ]
  },
  {
   "cell_type": "code",
   "execution_count": null,
   "id": "5a682a42-8807-48c6-9de4-0558838e3ccd",
   "metadata": {},
   "outputs": [],
   "source": [
    "eval_prev_evaluator.get_consistency_dist()"
   ]
  },
  {
   "cell_type": "code",
   "execution_count": null,
   "id": "07875448-9c58-4ec0-94b8-de9be8870011",
   "metadata": {},
   "outputs": [],
   "source": []
  }
 ],
 "metadata": {
  "kernelspec": {
   "display_name": "Python [conda env:test-creation]",
   "language": "python",
   "name": "conda-env-test-creation-py"
  },
  "language_info": {
   "codemirror_mode": {
    "name": "ipython",
    "version": 3
   },
   "file_extension": ".py",
   "mimetype": "text/x-python",
   "name": "python",
   "nbconvert_exporter": "python",
   "pygments_lexer": "ipython3",
   "version": "3.12.3"
  }
 },
 "nbformat": 4,
 "nbformat_minor": 5
}
