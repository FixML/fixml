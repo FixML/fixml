{
 "cells": [
  {
   "cell_type": "code",
   "execution_count": 1,
   "id": "d2c1ead7-9d5b-4414-80e2-07092ba180ca",
   "metadata": {},
   "outputs": [],
   "source": [
    "from analyze import *"
   ]
  },
  {
   "cell_type": "code",
   "execution_count": 4,
   "id": "ad0a59a9-185c-4f17-a0dd-fa2534958ecb",
   "metadata": {},
   "outputs": [],
   "source": [
    "llm = ChatOpenAI(model=\"gpt-3.5-turbo\", temperature=0)\n",
    "checklist = Checklist(\"../../checklist/checklist.csv\", checklist_format=ChecklistFormat.CSV)\n",
    "repo = Repository(\"../../data/raw/openja/lightfm_demo/\")\n",
    "prompt_format = EvaluationPromptFormat()"
   ]
  },
  {
   "cell_type": "code",
   "execution_count": 5,
   "id": "5ff5602f-260f-48f3-9b38-a5109556ac48",
   "metadata": {},
   "outputs": [
    {
     "name": "stderr",
     "output_type": "stream",
     "text": [
      "100%|███████████████████████████████████████████████████████████████████████████████████████████████████████████████████████████████████████████████████████████████████████████████████████████████████████████| 3/3 [01:47<00:00, 35.89s/it]\n"
     ]
    }
   ],
   "source": [
    "evaluator = PerFileTestEvaluator(llm, prompt_format=prompt_format, repository=repo, checklist=checklist)\n",
    "response = evaluator.evaluate()"
   ]
  },
  {
   "cell_type": "code",
   "execution_count": 6,
   "id": "218a50de-7496-40e9-b7c1-fc40410b9408",
   "metadata": {
    "scrolled": true
   },
   "outputs": [
    {
     "name": "stdout",
     "output_type": "stream",
     "text": [
      "Report:\n",
      "                                                        is_Satisfied  \\\n",
      "ID  Title                                                              \n",
      "1.1 Write Descriptive Test Names                                 1.0   \n",
      "1.2 Keep Tests Focused                                           1.0   \n",
      "1.3 Prefer Narrow Assertions in Unit Tests                       1.0   \n",
      "1.4 Keep Cause and Effect Clear                                  1.0   \n",
      "2.1 Ensure Data File Loads as Expected                           0.0   \n",
      "2.2 Ensure Saving Data/Figures Function Works as Ex...           0.0   \n",
      "3.1 Files Contain Data                                           0.0   \n",
      "3.2 Data in the Expected Format                                  0.0   \n",
      "3.3 Data Does Not Contain Null Values or Outliers                0.0   \n",
      "4.1 Cleaning and Transformation Functions Work as E...           0.0   \n",
      "5.1 Validate Model Input and Output Compatibility                0.5   \n",
      "5.2 Check Model is Learning During Fit                           0.0   \n",
      "5.3 Ensure Model Output Shape Aligns with Expectation            0.0   \n",
      "5.4 Ensure Model Output Aligns with Task Trained                 0.0   \n",
      "5.5 Validate Loss Reduction on Gradient Update                   0.0   \n",
      "5.6 Check for Data Leakage                                       0.0   \n",
      "6.1 Dummy Title                                                  1.0   \n",
      "7.1 Invariance Tests                                             0.0   \n",
      "7.2 Directional Expectation Tests                                0.0   \n",
      "7.3 Minimum Functionality Tests                                  0.0   \n",
      "\n",
      "                                                        n_files_tested  \\\n",
      "ID  Title                                                                \n",
      "1.1 Write Descriptive Test Names                                     3   \n",
      "1.2 Keep Tests Focused                                               3   \n",
      "1.3 Prefer Narrow Assertions in Unit Tests                           3   \n",
      "1.4 Keep Cause and Effect Clear                                      3   \n",
      "2.1 Ensure Data File Loads as Expected                               2   \n",
      "2.2 Ensure Saving Data/Figures Function Works as Ex...               2   \n",
      "3.1 Files Contain Data                                               2   \n",
      "3.2 Data in the Expected Format                                      2   \n",
      "3.3 Data Does Not Contain Null Values or Outliers                    2   \n",
      "4.1 Cleaning and Transformation Functions Work as E...               2   \n",
      "5.1 Validate Model Input and Output Compatibility                    2   \n",
      "5.2 Check Model is Learning During Fit                               2   \n",
      "5.3 Ensure Model Output Shape Aligns with Expectation                2   \n",
      "5.4 Ensure Model Output Aligns with Task Trained                     2   \n",
      "5.5 Validate Loss Reduction on Gradient Update                       2   \n",
      "5.6 Check for Data Leakage                                           2   \n",
      "6.1 Dummy Title                                                      2   \n",
      "7.1 Invariance Tests                                                 2   \n",
      "7.2 Directional Expectation Tests                                    2   \n",
      "7.3 Minimum Functionality Tests                                      2   \n",
      "\n",
      "                                                                                                functions  \n",
      "ID  Title                                                                                                  \n",
      "1.1 Write Descriptive Test Names                        [test_random_train_test_split, _generate_data,...  \n",
      "1.2 Keep Tests Focused                                  [test_random_train_test_split, test_precision_...  \n",
      "1.3 Prefer Narrow Assertions in Unit Tests              [test_random_train_test_split, test_precision_...  \n",
      "1.4 Keep Cause and Effect Clear                         [test_random_train_test_split, _precision_at_k...  \n",
      "2.1 Ensure Data File Loads as Expected                                                                  0  \n",
      "2.2 Ensure Saving Data/Figures Function Works as Ex...                                                  0  \n",
      "3.1 Files Contain Data                                                                                  0  \n",
      "3.2 Data in the Expected Format                                                                         0  \n",
      "3.3 Data Does Not Contain Null Values or Outliers                                                       0  \n",
      "4.1 Cleaning and Transformation Functions Work as E...                                                  0  \n",
      "5.1 Validate Model Input and Output Compatibility                                        [test_auc_score]  \n",
      "5.2 Check Model is Learning During Fit                                                                  0  \n",
      "5.3 Ensure Model Output Shape Aligns with Expectation                                                   0  \n",
      "5.4 Ensure Model Output Aligns with Task Trained                                                        0  \n",
      "5.5 Validate Loss Reduction on Gradient Update                                                          0  \n",
      "5.6 Check for Data Leakage                                                                              0  \n",
      "6.1 Dummy Title                                                                                         0  \n",
      "7.1 Invariance Tests                                                                                    0  \n",
      "7.2 Directional Expectation Tests                                                                       0  \n",
      "7.3 Minimum Functionality Tests                                                                         0  \n",
      "\n",
      "Score: 5.5/20\n",
      "\n"
     ]
    },
    {
     "data": {
      "text/plain": [
       "'5.5/20'"
      ]
     },
     "execution_count": 6,
     "metadata": {},
     "output_type": "execute_result"
    }
   ],
   "source": [
    "parser = ResponseParser(response)\n",
    "parser.get_completeness_score(verbose=True)"
   ]
  },
  {
   "cell_type": "code",
   "execution_count": 7,
   "id": "d717ba5d-dc9d-477d-a9db-ccb993f48f09",
   "metadata": {},
   "outputs": [],
   "source": [
    "# FIXME: export html"
   ]
  },
  {
   "cell_type": "markdown",
   "id": "cbdae9cf-3520-4fc0-85ff-853ceb16b6d3",
   "metadata": {},
   "source": [
    "### Consistency evaluation"
   ]
  },
  {
   "cell_type": "code",
   "execution_count": 8,
   "id": "273db18c-13c4-4c86-a4c8-f42e0b0e37c5",
   "metadata": {},
   "outputs": [],
   "source": [
    "from consistency_check import *"
   ]
  },
  {
   "cell_type": "code",
   "execution_count": 9,
   "id": "5a682a42-8807-48c6-9de4-0558838e3ccd",
   "metadata": {},
   "outputs": [],
   "source": [
    "checklist = Checklist(\"../../checklist/checklist.csv\", checklist_format=ChecklistFormat.CSV) # FIXME: use newer checklist\n",
    "repo = Repository(\"../../data/raw/openja/lightfm_demo/\")\n",
    "prompt_format = EvaluationPromptFormat()"
   ]
  },
  {
   "cell_type": "code",
   "execution_count": 10,
   "id": "889fd144-c4c1-4365-81f5-317f3cf6c4a9",
   "metadata": {},
   "outputs": [
    {
     "name": "stdout",
     "output_type": "stream",
     "text": [
      "Model: gpt-3.5-turbo\n",
      "Test Run No.: 1\n"
     ]
    },
    {
     "name": "stderr",
     "output_type": "stream",
     "text": [
      "100%|███████████████████████████████████████████████████████████████████████████████████████████████████████████████████████████████████████████████████████████████████████████████████████████████████████████| 3/3 [01:22<00:00, 27.63s/it]\n"
     ]
    },
    {
     "name": "stdout",
     "output_type": "stream",
     "text": [
      "Test Run No.: 2\n"
     ]
    },
    {
     "name": "stderr",
     "output_type": "stream",
     "text": [
      "100%|███████████████████████████████████████████████████████████████████████████████████████████████████████████████████████████████████████████████████████████████████████████████████████████████████████████| 3/3 [01:30<00:00, 30.19s/it]\n"
     ]
    },
    {
     "name": "stdout",
     "output_type": "stream",
     "text": [
      "Model: gpt-4o\n",
      "Test Run No.: 1\n"
     ]
    },
    {
     "name": "stderr",
     "output_type": "stream",
     "text": [
      "100%|███████████████████████████████████████████████████████████████████████████████████████████████████████████████████████████████████████████████████████████████████████████████████████████████████████████| 3/3 [02:22<00:00, 47.36s/it]\n"
     ]
    },
    {
     "name": "stdout",
     "output_type": "stream",
     "text": [
      "Test Run No.: 2\n"
     ]
    },
    {
     "name": "stderr",
     "output_type": "stream",
     "text": [
      "100%|███████████████████████████████████████████████████████████████████████████████████████████████████████████████████████████████████████████████████████████████████████████████████████████████████████████| 3/3 [02:29<00:00, 49.97s/it]\n"
     ]
    }
   ],
   "source": [
    "gpt35 = ChatOpenAI(model=\"gpt-3.5-turbo\", temperature=0)\n",
    "gpt4o = ChatOpenAI(model=\"gpt-4o\", temperature=0)\n",
    "evaluator35 = PerFileTestEvaluator(gpt35, prompt_format=prompt_format, repository=repo, checklist=checklist)\n",
    "evaluator4o = PerFileTestEvaluator(gpt4o, prompt_format=prompt_format, repository=repo, checklist=checklist)\n",
    "\n",
    "consist_eval = ConsistencyEvaluator()\n",
    "consist_eval.evaluate(\n",
    "    models=[\n",
    "        {'name': 'gpt-3.5-turbo', 'model': evaluator35},\n",
    "        {'name': 'gpt-4o', 'model': evaluator4o}\n",
    "    ],\n",
    "    num_test_runs=2\n",
    "    verbose=True,\n",
    ")"
   ]
  },
  {
   "cell_type": "code",
   "execution_count": 11,
   "id": "07875448-9c58-4ec0-94b8-de9be8870011",
   "metadata": {},
   "outputs": [
    {
     "data": {
      "text/html": [
       "<div>\n",
       "<style scoped>\n",
       "    .dataframe tbody tr th:only-of-type {\n",
       "        vertical-align: middle;\n",
       "    }\n",
       "\n",
       "    .dataframe tbody tr th {\n",
       "        vertical-align: top;\n",
       "    }\n",
       "\n",
       "    .dataframe thead th {\n",
       "        text-align: right;\n",
       "    }\n",
       "</style>\n",
       "<table border=\"1\" class=\"dataframe\">\n",
       "  <thead>\n",
       "    <tr style=\"text-align: right;\">\n",
       "      <th></th>\n",
       "      <th>score</th>\n",
       "      <th>report</th>\n",
       "      <th>model_name</th>\n",
       "      <th>test_no</th>\n",
       "    </tr>\n",
       "  </thead>\n",
       "  <tbody>\n",
       "    <tr>\n",
       "      <th>0</th>\n",
       "      <td>0.25</td>\n",
       "      <td>...</td>\n",
       "      <td>gpt-3.5-turbo</td>\n",
       "      <td>1</td>\n",
       "    </tr>\n",
       "    <tr>\n",
       "      <th>1</th>\n",
       "      <td>0.25</td>\n",
       "      <td>...</td>\n",
       "      <td>gpt-3.5-turbo</td>\n",
       "      <td>2</td>\n",
       "    </tr>\n",
       "    <tr>\n",
       "      <th>2</th>\n",
       "      <td>0.65</td>\n",
       "      <td>...</td>\n",
       "      <td>gpt-4o</td>\n",
       "      <td>1</td>\n",
       "    </tr>\n",
       "    <tr>\n",
       "      <th>3</th>\n",
       "      <td>0.70</td>\n",
       "      <td>...</td>\n",
       "      <td>gpt-4o</td>\n",
       "      <td>2</td>\n",
       "    </tr>\n",
       "  </tbody>\n",
       "</table>\n",
       "</div>"
      ],
      "text/plain": [
       "   score                                             report     model_name  \\\n",
       "0   0.25                                                ...  gpt-3.5-turbo   \n",
       "1   0.25                                                ...  gpt-3.5-turbo   \n",
       "2   0.65                                                ...         gpt-4o   \n",
       "3   0.70                                                ...         gpt-4o   \n",
       "\n",
       "   test_no  \n",
       "0        1  \n",
       "1        2  \n",
       "2        1  \n",
       "3        2  "
      ]
     },
     "execution_count": 11,
     "metadata": {},
     "output_type": "execute_result"
    }
   ],
   "source": [
    "consist_eval.evaluation_reports"
   ]
  },
  {
   "cell_type": "code",
   "execution_count": 15,
   "id": "0d2724c3-1dd9-4ccb-be9f-c2d87715cecd",
   "metadata": {
    "scrolled": true
   },
   "outputs": [
    {
     "data": {
      "text/html": [
       "<div>\n",
       "<style scoped>\n",
       "    .dataframe tbody tr th:only-of-type {\n",
       "        vertical-align: middle;\n",
       "    }\n",
       "\n",
       "    .dataframe tbody tr th {\n",
       "        vertical-align: top;\n",
       "    }\n",
       "\n",
       "    .dataframe thead th {\n",
       "        text-align: right;\n",
       "    }\n",
       "</style>\n",
       "<table border=\"1\" class=\"dataframe\">\n",
       "  <thead>\n",
       "    <tr style=\"text-align: right;\">\n",
       "      <th></th>\n",
       "      <th></th>\n",
       "      <th>is_Satisfied</th>\n",
       "      <th>n_files_tested</th>\n",
       "      <th>functions</th>\n",
       "    </tr>\n",
       "    <tr>\n",
       "      <th>ID</th>\n",
       "      <th>Title</th>\n",
       "      <th></th>\n",
       "      <th></th>\n",
       "      <th></th>\n",
       "    </tr>\n",
       "  </thead>\n",
       "  <tbody>\n",
       "    <tr>\n",
       "      <th>1.1</th>\n",
       "      <th>Write Descriptive Test Names</th>\n",
       "      <td>1.0</td>\n",
       "      <td>3</td>\n",
       "      <td>[test_random_train_test_split, _precision_at_k...</td>\n",
       "    </tr>\n",
       "    <tr>\n",
       "      <th>1.2</th>\n",
       "      <th>Keep Tests Focused</th>\n",
       "      <td>1.0</td>\n",
       "      <td>3</td>\n",
       "      <td>[test_random_train_test_split, test_precision_...</td>\n",
       "    </tr>\n",
       "    <tr>\n",
       "      <th>1.3</th>\n",
       "      <th>Prefer Narrow Assertions in Unit Tests</th>\n",
       "      <td>1.0</td>\n",
       "      <td>3</td>\n",
       "      <td>[test_random_train_test_split, test_precision_...</td>\n",
       "    </tr>\n",
       "    <tr>\n",
       "      <th>1.4</th>\n",
       "      <th>Keep Cause and Effect Clear</th>\n",
       "      <td>1.0</td>\n",
       "      <td>3</td>\n",
       "      <td>[test_random_train_test_split, _precision_at_k...</td>\n",
       "    </tr>\n",
       "    <tr>\n",
       "      <th>2.1</th>\n",
       "      <th>Ensure Data File Loads as Expected</th>\n",
       "      <td>0.0</td>\n",
       "      <td>2</td>\n",
       "      <td>[]</td>\n",
       "    </tr>\n",
       "    <tr>\n",
       "      <th>2.2</th>\n",
       "      <th>Ensure Saving Data/Figures Function Works as Expected</th>\n",
       "      <td>0.0</td>\n",
       "      <td>2</td>\n",
       "      <td>[]</td>\n",
       "    </tr>\n",
       "    <tr>\n",
       "      <th>3.1</th>\n",
       "      <th>Files Contain Data</th>\n",
       "      <td>0.0</td>\n",
       "      <td>2</td>\n",
       "      <td>[]</td>\n",
       "    </tr>\n",
       "    <tr>\n",
       "      <th>3.2</th>\n",
       "      <th>Data in the Expected Format</th>\n",
       "      <td>0.0</td>\n",
       "      <td>2</td>\n",
       "      <td>[]</td>\n",
       "    </tr>\n",
       "    <tr>\n",
       "      <th>3.3</th>\n",
       "      <th>Data Does Not Contain Null Values or Outliers</th>\n",
       "      <td>0.0</td>\n",
       "      <td>2</td>\n",
       "      <td>[]</td>\n",
       "    </tr>\n",
       "    <tr>\n",
       "      <th>4.1</th>\n",
       "      <th>Cleaning and Transformation Functions Work as Expected</th>\n",
       "      <td>0.0</td>\n",
       "      <td>2</td>\n",
       "      <td>[]</td>\n",
       "    </tr>\n",
       "    <tr>\n",
       "      <th>5.1</th>\n",
       "      <th>Validate Model Input and Output Compatibility</th>\n",
       "      <td>0.0</td>\n",
       "      <td>2</td>\n",
       "      <td>[]</td>\n",
       "    </tr>\n",
       "    <tr>\n",
       "      <th>5.2</th>\n",
       "      <th>Check Model is Learning During Fit</th>\n",
       "      <td>0.0</td>\n",
       "      <td>2</td>\n",
       "      <td>[]</td>\n",
       "    </tr>\n",
       "    <tr>\n",
       "      <th>5.3</th>\n",
       "      <th>Ensure Model Output Shape Aligns with Expectation</th>\n",
       "      <td>0.0</td>\n",
       "      <td>2</td>\n",
       "      <td>[]</td>\n",
       "    </tr>\n",
       "    <tr>\n",
       "      <th>5.4</th>\n",
       "      <th>Ensure Model Output Aligns with Task Trained</th>\n",
       "      <td>0.0</td>\n",
       "      <td>2</td>\n",
       "      <td>[]</td>\n",
       "    </tr>\n",
       "    <tr>\n",
       "      <th>5.5</th>\n",
       "      <th>Validate Loss Reduction on Gradient Update</th>\n",
       "      <td>0.0</td>\n",
       "      <td>2</td>\n",
       "      <td>[]</td>\n",
       "    </tr>\n",
       "    <tr>\n",
       "      <th>5.6</th>\n",
       "      <th>Check for Data Leakage</th>\n",
       "      <td>0.0</td>\n",
       "      <td>2</td>\n",
       "      <td>[]</td>\n",
       "    </tr>\n",
       "    <tr>\n",
       "      <th>6.1</th>\n",
       "      <th>Dummy Title</th>\n",
       "      <td>1.0</td>\n",
       "      <td>2</td>\n",
       "      <td>[]</td>\n",
       "    </tr>\n",
       "    <tr>\n",
       "      <th>7.1</th>\n",
       "      <th>Invariance Tests</th>\n",
       "      <td>0.0</td>\n",
       "      <td>2</td>\n",
       "      <td>[]</td>\n",
       "    </tr>\n",
       "    <tr>\n",
       "      <th>7.2</th>\n",
       "      <th>Directional Expectation Tests</th>\n",
       "      <td>0.0</td>\n",
       "      <td>2</td>\n",
       "      <td>[]</td>\n",
       "    </tr>\n",
       "    <tr>\n",
       "      <th>7.3</th>\n",
       "      <th>Minimum Functionality Tests</th>\n",
       "      <td>0.0</td>\n",
       "      <td>2</td>\n",
       "      <td>[]</td>\n",
       "    </tr>\n",
       "  </tbody>\n",
       "</table>\n",
       "</div>"
      ],
      "text/plain": [
       "                                                        is_Satisfied  \\\n",
       "ID  Title                                                              \n",
       "1.1 Write Descriptive Test Names                                 1.0   \n",
       "1.2 Keep Tests Focused                                           1.0   \n",
       "1.3 Prefer Narrow Assertions in Unit Tests                       1.0   \n",
       "1.4 Keep Cause and Effect Clear                                  1.0   \n",
       "2.1 Ensure Data File Loads as Expected                           0.0   \n",
       "2.2 Ensure Saving Data/Figures Function Works as Ex...           0.0   \n",
       "3.1 Files Contain Data                                           0.0   \n",
       "3.2 Data in the Expected Format                                  0.0   \n",
       "3.3 Data Does Not Contain Null Values or Outliers                0.0   \n",
       "4.1 Cleaning and Transformation Functions Work as E...           0.0   \n",
       "5.1 Validate Model Input and Output Compatibility                0.0   \n",
       "5.2 Check Model is Learning During Fit                           0.0   \n",
       "5.3 Ensure Model Output Shape Aligns with Expectation            0.0   \n",
       "5.4 Ensure Model Output Aligns with Task Trained                 0.0   \n",
       "5.5 Validate Loss Reduction on Gradient Update                   0.0   \n",
       "5.6 Check for Data Leakage                                       0.0   \n",
       "6.1 Dummy Title                                                  1.0   \n",
       "7.1 Invariance Tests                                             0.0   \n",
       "7.2 Directional Expectation Tests                                0.0   \n",
       "7.3 Minimum Functionality Tests                                  0.0   \n",
       "\n",
       "                                                        n_files_tested  \\\n",
       "ID  Title                                                                \n",
       "1.1 Write Descriptive Test Names                                     3   \n",
       "1.2 Keep Tests Focused                                               3   \n",
       "1.3 Prefer Narrow Assertions in Unit Tests                           3   \n",
       "1.4 Keep Cause and Effect Clear                                      3   \n",
       "2.1 Ensure Data File Loads as Expected                               2   \n",
       "2.2 Ensure Saving Data/Figures Function Works as Ex...               2   \n",
       "3.1 Files Contain Data                                               2   \n",
       "3.2 Data in the Expected Format                                      2   \n",
       "3.3 Data Does Not Contain Null Values or Outliers                    2   \n",
       "4.1 Cleaning and Transformation Functions Work as E...               2   \n",
       "5.1 Validate Model Input and Output Compatibility                    2   \n",
       "5.2 Check Model is Learning During Fit                               2   \n",
       "5.3 Ensure Model Output Shape Aligns with Expectation                2   \n",
       "5.4 Ensure Model Output Aligns with Task Trained                     2   \n",
       "5.5 Validate Loss Reduction on Gradient Update                       2   \n",
       "5.6 Check for Data Leakage                                           2   \n",
       "6.1 Dummy Title                                                      2   \n",
       "7.1 Invariance Tests                                                 2   \n",
       "7.2 Directional Expectation Tests                                    2   \n",
       "7.3 Minimum Functionality Tests                                      2   \n",
       "\n",
       "                                                                                                functions  \n",
       "ID  Title                                                                                                  \n",
       "1.1 Write Descriptive Test Names                        [test_random_train_test_split, _precision_at_k...  \n",
       "1.2 Keep Tests Focused                                  [test_random_train_test_split, test_precision_...  \n",
       "1.3 Prefer Narrow Assertions in Unit Tests              [test_random_train_test_split, test_precision_...  \n",
       "1.4 Keep Cause and Effect Clear                         [test_random_train_test_split, _precision_at_k...  \n",
       "2.1 Ensure Data File Loads as Expected                                                                 []  \n",
       "2.2 Ensure Saving Data/Figures Function Works as Ex...                                                 []  \n",
       "3.1 Files Contain Data                                                                                 []  \n",
       "3.2 Data in the Expected Format                                                                        []  \n",
       "3.3 Data Does Not Contain Null Values or Outliers                                                      []  \n",
       "4.1 Cleaning and Transformation Functions Work as E...                                                 []  \n",
       "5.1 Validate Model Input and Output Compatibility                                                      []  \n",
       "5.2 Check Model is Learning During Fit                                                                 []  \n",
       "5.3 Ensure Model Output Shape Aligns with Expectation                                                  []  \n",
       "5.4 Ensure Model Output Aligns with Task Trained                                                       []  \n",
       "5.5 Validate Loss Reduction on Gradient Update                                                         []  \n",
       "5.6 Check for Data Leakage                                                                             []  \n",
       "6.1 Dummy Title                                                                                        []  \n",
       "7.1 Invariance Tests                                                                                   []  \n",
       "7.2 Directional Expectation Tests                                                                      []  \n",
       "7.3 Minimum Functionality Tests                                                                        []  "
      ]
     },
     "execution_count": 15,
     "metadata": {},
     "output_type": "execute_result"
    }
   ],
   "source": [
    "consist_eval.evaluation_reports['report'].iloc[0]"
   ]
  },
  {
   "cell_type": "code",
   "execution_count": null,
   "id": "3fa8141a-666a-45d2-9b64-afa9e0d14d28",
   "metadata": {},
   "outputs": [],
   "source": [
    "consist_eval.evaluation_reports"
   ]
  }
 ],
 "metadata": {
  "kernelspec": {
   "display_name": "Python [conda env:test-creation]",
   "language": "python",
   "name": "conda-env-test-creation-py"
  },
  "language_info": {
   "codemirror_mode": {
    "name": "ipython",
    "version": 3
   },
   "file_extension": ".py",
   "mimetype": "text/x-python",
   "name": "python",
   "nbconvert_exporter": "python",
   "pygments_lexer": "ipython3",
   "version": "3.12.3"
  }
 },
 "nbformat": 4,
 "nbformat_minor": 5
}
