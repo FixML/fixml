{
 "cells": [
  {
   "cell_type": "code",
   "execution_count": 1,
   "id": "d2c1ead7-9d5b-4414-80e2-07092ba180ca",
   "metadata": {},
   "outputs": [],
   "source": [
    "from analyze import *"
   ]
  },
  {
   "cell_type": "code",
   "execution_count": 2,
   "id": "f500b822-6e75-4819-bda3-bf74e028d1ac",
   "metadata": {},
   "outputs": [],
   "source": [
    "llm = ChatOpenAI(model=\"gpt-3.5-turbo\", temperature=0)\n",
    "checklist = Checklist('../../checklist/checklist_sys.csv/', checklist_format=ChecklistFormat.CSV)\n",
    "extractor = PythonTestFileExtractor(Repository('../../data/raw/openja/lightfm_demo'))"
   ]
  },
  {
   "cell_type": "code",
   "execution_count": 3,
   "id": "ad0a59a9-185c-4f17-a0dd-fa2534958ecb",
   "metadata": {},
   "outputs": [
    {
     "name": "stderr",
     "output_type": "stream",
     "text": [
      "100%|███████████████████████████████████████████████████████████████████████████████████████████████████████████████████████████████████████████████████████████████████████████████████████████████████████████| 3/3 [00:26<00:00,  8.77s/it]\n"
     ]
    }
   ],
   "source": [
    "evaluator = TestEvaluator(llm, extractor, checklist)\n",
    "response = evaluator.evaluate()"
   ]
  },
  {
   "cell_type": "code",
   "execution_count": 5,
   "id": "7326d7f5-9afd-406e-86ee-9b1f09c8adcd",
   "metadata": {},
   "outputs": [],
   "source": [
    "#response"
   ]
  },
  {
   "cell_type": "code",
   "execution_count": 4,
   "id": "32b31a37-06c6-41af-b426-284070311911",
   "metadata": {},
   "outputs": [],
   "source": [
    "parser = ResponseParser(response)"
   ]
  },
  {
   "cell_type": "code",
   "execution_count": 5,
   "id": "6c2ce7a8-4e75-497e-bc9f-a2ef7b637add",
   "metadata": {},
   "outputs": [
    {
     "name": "stdout",
     "output_type": "stream",
     "text": [
      "Report:\n",
      "                                                     is_Satisfied  \\\n",
      "ID  Title                                                           \n",
      "2.1 Test Data Fetching and File Reading                       0.0   \n",
      "3.1 Validate Data Shape and Values                            0.0   \n",
      "3.2 Check for Duplicate Records in Data                       0.0   \n",
      "4.1 Verify Data Split Proportion                              1.0   \n",
      "5.1 Test Model Output Shape                                   0.5   \n",
      "6.1 Verify Evaluation Metrics Implementation                  0.5   \n",
      "6.2 Evaluate Model's Performance Against Thresholds           0.5   \n",
      "8.1 Validate Outliers Detection and Handling                  0.0   \n",
      "\n",
      "                                                     n_files_tested  \n",
      "ID  Title                                                            \n",
      "2.1 Test Data Fetching and File Reading                           2  \n",
      "3.1 Validate Data Shape and Values                                2  \n",
      "3.2 Check for Duplicate Records in Data                           2  \n",
      "4.1 Verify Data Split Proportion                                  3  \n",
      "5.1 Test Model Output Shape                                       2  \n",
      "6.1 Verify Evaluation Metrics Implementation                      2  \n",
      "6.2 Evaluate Model's Performance Against Thresholds               2  \n",
      "8.1 Validate Outliers Detection and Handling                      2  \n",
      "\n",
      "Score: 2.5/8\n",
      "\n"
     ]
    },
    {
     "data": {
      "text/plain": [
       "'2.5/8'"
      ]
     },
     "execution_count": 5,
     "metadata": {},
     "output_type": "execute_result"
    }
   ],
   "source": [
    "parser.get_completeness_score(verbose=True)"
   ]
  },
  {
   "cell_type": "code",
   "execution_count": 6,
   "id": "ed40b82c-9c5b-4554-83a1-cd3e009b72fa",
   "metadata": {},
   "outputs": [
    {
     "data": {
      "text/plain": [
       "[{'File Path': '../../data/raw/openja/lightfm_demo/tests/test_evaluation.py',\n",
       "  'Functions': ['_precision_at_k', '_recall_at_k', '_auc'],\n",
       "  'Line Numbers': [34, 78, 122]},\n",
       " {'File Path': '../../data/raw/openja/lightfm_demo/tests/test_data.py',\n",
       "  'Functions': [],\n",
       "  'Line Numbers': []}]"
      ]
     },
     "execution_count": 6,
     "metadata": {},
     "output_type": "execute_result"
    }
   ],
   "source": [
    "parser.evaluation_report['Function References'].iloc[5]"
   ]
  },
  {
   "cell_type": "code",
   "execution_count": 7,
   "id": "15722d59-0764-43dd-aeb6-5f01deaed9c5",
   "metadata": {},
   "outputs": [],
   "source": [
    "parser.export_evaluation_report(\"report.html\", \"html\", exist_ok=True)"
   ]
  },
  {
   "cell_type": "code",
   "execution_count": null,
   "id": "07875448-9c58-4ec0-94b8-de9be8870011",
   "metadata": {},
   "outputs": [],
   "source": []
  }
 ],
 "metadata": {
  "kernelspec": {
   "display_name": "Python [conda env:test-creation]",
   "language": "python",
   "name": "conda-env-test-creation-py"
  },
  "language_info": {
   "codemirror_mode": {
    "name": "ipython",
    "version": 3
   },
   "file_extension": ".py",
   "mimetype": "text/x-python",
   "name": "python",
   "nbconvert_exporter": "python",
   "pygments_lexer": "ipython3",
   "version": "3.12.3"
  }
 },
 "nbformat": 4,
 "nbformat_minor": 5
}
